{
  "nbformat": 4,
  "nbformat_minor": 0,
  "metadata": {
    "colab": {
      "provenance": [],
      "authorship_tag": "ABX9TyOCZT7NfHJONHYY88caePGM",
      "include_colab_link": true
    },
    "kernelspec": {
      "name": "python3",
      "display_name": "Python 3"
    },
    "language_info": {
      "name": "python"
    }
  },
  "cells": [
    {
      "cell_type": "markdown",
      "metadata": {
        "id": "view-in-github",
        "colab_type": "text"
      },
      "source": [
        "<a href=\"https://colab.research.google.com/github/Rmaserati/Stock-Analaysis-ML-Porject/blob/main/Stock_Price_Analysis_(Pfizer).ipynb\" target=\"_parent\"><img src=\"https://colab.research.google.com/assets/colab-badge.svg\" alt=\"Open In Colab\"/></a>"
      ]
    },
    {
      "cell_type": "markdown",
      "source": [
        "Program that uses a recurrent neural network called Long Short Term Memory (LSTM) to predict the closing stock price of a corporation (Pfizer inc.) using the past 60 days stock price."
      ],
      "metadata": {
        "id": "NajDcLQ2_FOx"
      }
    },
    {
      "cell_type": "code",
      "source": [
        "!pip install yfinance\n"
      ],
      "metadata": {
        "id": "gIV3oMqQBfRt"
      },
      "execution_count": null,
      "outputs": []
    },
    {
      "cell_type": "code",
      "source": [
        "#Libraries\n",
        "import math\n",
        "import pandas_datareader as web\n",
        "import numpy as np\n",
        "import pandas as pd\n",
        "import yfinance as yf\n",
        "from sklearn.preprocessing import MinMaxScaler\n",
        "from keras.models import Sequential\n",
        "from keras.layers import Dense, LSTM\n",
        "import matplotlib.pyplot as plt\n",
        "plt.style.use('fivethirtyeight')"
      ],
      "metadata": {
        "id": "klP4g-Ab_T0N"
      },
      "execution_count": null,
      "outputs": []
    },
    {
      "cell_type": "code",
      "source": [
        "#Get the Stock quote\n",
        "df = yf.download('PFE', start='2018-01-01', end='2022-12-25')\n",
        "df"
      ],
      "metadata": {
        "colab": {
          "base_uri": "https://localhost:8080/",
          "height": 472
        },
        "id": "Sutc1MSs_vG0",
        "outputId": "72ef5698-e210-4684-a909-99abe16c11e3"
      },
      "execution_count": null,
      "outputs": [
        {
          "output_type": "stream",
          "name": "stdout",
          "text": [
            "\r[*********************100%***********************]  1 of 1 completed\n"
          ]
        },
        {
          "output_type": "execute_result",
          "data": {
            "text/plain": [
              "                                Open       High        Low      Close  \\\n",
              "Date                                                                    \n",
              "2018-01-02 00:00:00-05:00  34.516129  34.648956  34.383301  34.573055   \n",
              "2018-01-03 00:00:00-05:00  34.582542  34.886147  34.373814  34.829224   \n",
              "2018-01-04 00:00:00-05:00  34.829224  35.028461  34.724857  34.905125   \n",
              "2018-01-05 00:00:00-05:00  34.933586  34.990513  34.734344  34.971539   \n",
              "2018-01-08 00:00:00-05:00  34.838711  34.914612  34.468693  34.582542   \n",
              "...                              ...        ...        ...        ...   \n",
              "2022-12-19 00:00:00-05:00  51.520000  51.810001  50.700001  51.360001   \n",
              "2022-12-20 00:00:00-05:00  51.209999  51.509998  50.840000  51.320000   \n",
              "2022-12-21 00:00:00-05:00  51.610001  52.160000  51.200001  51.660000   \n",
              "2022-12-22 00:00:00-05:00  51.410000  51.700001  50.950001  51.639999   \n",
              "2022-12-23 00:00:00-05:00  51.560001  51.950001  51.240002  51.830002   \n",
              "\n",
              "                           Adj Close    Volume  \n",
              "Date                                            \n",
              "2018-01-02 00:00:00-05:00  28.559780  17059833  \n",
              "2018-01-03 00:00:00-05:00  28.771393  14183151  \n",
              "2018-01-04 00:00:00-05:00  28.834095  13046517  \n",
              "2018-01-05 00:00:00-05:00  28.888952  13167517  \n",
              "2018-01-08 00:00:00-05:00  28.567612  19964341  \n",
              "...                              ...       ...  \n",
              "2022-12-19 00:00:00-05:00  50.892780  16081900  \n",
              "2022-12-20 00:00:00-05:00  50.853142  12433800  \n",
              "2022-12-21 00:00:00-05:00  51.190048  12925000  \n",
              "2022-12-22 00:00:00-05:00  51.170231  14822300  \n",
              "2022-12-23 00:00:00-05:00  51.358505  10666500  \n",
              "\n",
              "[1255 rows x 6 columns]"
            ],
            "text/html": [
              "\n",
              "  <div id=\"df-e3cae232-0ff3-4b8b-b459-e988c839db42\">\n",
              "    <div class=\"colab-df-container\">\n",
              "      <div>\n",
              "<style scoped>\n",
              "    .dataframe tbody tr th:only-of-type {\n",
              "        vertical-align: middle;\n",
              "    }\n",
              "\n",
              "    .dataframe tbody tr th {\n",
              "        vertical-align: top;\n",
              "    }\n",
              "\n",
              "    .dataframe thead th {\n",
              "        text-align: right;\n",
              "    }\n",
              "</style>\n",
              "<table border=\"1\" class=\"dataframe\">\n",
              "  <thead>\n",
              "    <tr style=\"text-align: right;\">\n",
              "      <th></th>\n",
              "      <th>Open</th>\n",
              "      <th>High</th>\n",
              "      <th>Low</th>\n",
              "      <th>Close</th>\n",
              "      <th>Adj Close</th>\n",
              "      <th>Volume</th>\n",
              "    </tr>\n",
              "    <tr>\n",
              "      <th>Date</th>\n",
              "      <th></th>\n",
              "      <th></th>\n",
              "      <th></th>\n",
              "      <th></th>\n",
              "      <th></th>\n",
              "      <th></th>\n",
              "    </tr>\n",
              "  </thead>\n",
              "  <tbody>\n",
              "    <tr>\n",
              "      <th>2018-01-02 00:00:00-05:00</th>\n",
              "      <td>34.516129</td>\n",
              "      <td>34.648956</td>\n",
              "      <td>34.383301</td>\n",
              "      <td>34.573055</td>\n",
              "      <td>28.559780</td>\n",
              "      <td>17059833</td>\n",
              "    </tr>\n",
              "    <tr>\n",
              "      <th>2018-01-03 00:00:00-05:00</th>\n",
              "      <td>34.582542</td>\n",
              "      <td>34.886147</td>\n",
              "      <td>34.373814</td>\n",
              "      <td>34.829224</td>\n",
              "      <td>28.771393</td>\n",
              "      <td>14183151</td>\n",
              "    </tr>\n",
              "    <tr>\n",
              "      <th>2018-01-04 00:00:00-05:00</th>\n",
              "      <td>34.829224</td>\n",
              "      <td>35.028461</td>\n",
              "      <td>34.724857</td>\n",
              "      <td>34.905125</td>\n",
              "      <td>28.834095</td>\n",
              "      <td>13046517</td>\n",
              "    </tr>\n",
              "    <tr>\n",
              "      <th>2018-01-05 00:00:00-05:00</th>\n",
              "      <td>34.933586</td>\n",
              "      <td>34.990513</td>\n",
              "      <td>34.734344</td>\n",
              "      <td>34.971539</td>\n",
              "      <td>28.888952</td>\n",
              "      <td>13167517</td>\n",
              "    </tr>\n",
              "    <tr>\n",
              "      <th>2018-01-08 00:00:00-05:00</th>\n",
              "      <td>34.838711</td>\n",
              "      <td>34.914612</td>\n",
              "      <td>34.468693</td>\n",
              "      <td>34.582542</td>\n",
              "      <td>28.567612</td>\n",
              "      <td>19964341</td>\n",
              "    </tr>\n",
              "    <tr>\n",
              "      <th>...</th>\n",
              "      <td>...</td>\n",
              "      <td>...</td>\n",
              "      <td>...</td>\n",
              "      <td>...</td>\n",
              "      <td>...</td>\n",
              "      <td>...</td>\n",
              "    </tr>\n",
              "    <tr>\n",
              "      <th>2022-12-19 00:00:00-05:00</th>\n",
              "      <td>51.520000</td>\n",
              "      <td>51.810001</td>\n",
              "      <td>50.700001</td>\n",
              "      <td>51.360001</td>\n",
              "      <td>50.892780</td>\n",
              "      <td>16081900</td>\n",
              "    </tr>\n",
              "    <tr>\n",
              "      <th>2022-12-20 00:00:00-05:00</th>\n",
              "      <td>51.209999</td>\n",
              "      <td>51.509998</td>\n",
              "      <td>50.840000</td>\n",
              "      <td>51.320000</td>\n",
              "      <td>50.853142</td>\n",
              "      <td>12433800</td>\n",
              "    </tr>\n",
              "    <tr>\n",
              "      <th>2022-12-21 00:00:00-05:00</th>\n",
              "      <td>51.610001</td>\n",
              "      <td>52.160000</td>\n",
              "      <td>51.200001</td>\n",
              "      <td>51.660000</td>\n",
              "      <td>51.190048</td>\n",
              "      <td>12925000</td>\n",
              "    </tr>\n",
              "    <tr>\n",
              "      <th>2022-12-22 00:00:00-05:00</th>\n",
              "      <td>51.410000</td>\n",
              "      <td>51.700001</td>\n",
              "      <td>50.950001</td>\n",
              "      <td>51.639999</td>\n",
              "      <td>51.170231</td>\n",
              "      <td>14822300</td>\n",
              "    </tr>\n",
              "    <tr>\n",
              "      <th>2022-12-23 00:00:00-05:00</th>\n",
              "      <td>51.560001</td>\n",
              "      <td>51.950001</td>\n",
              "      <td>51.240002</td>\n",
              "      <td>51.830002</td>\n",
              "      <td>51.358505</td>\n",
              "      <td>10666500</td>\n",
              "    </tr>\n",
              "  </tbody>\n",
              "</table>\n",
              "<p>1255 rows × 6 columns</p>\n",
              "</div>\n",
              "      <button class=\"colab-df-convert\" onclick=\"convertToInteractive('df-e3cae232-0ff3-4b8b-b459-e988c839db42')\"\n",
              "              title=\"Convert this dataframe to an interactive table.\"\n",
              "              style=\"display:none;\">\n",
              "        \n",
              "  <svg xmlns=\"http://www.w3.org/2000/svg\" height=\"24px\"viewBox=\"0 0 24 24\"\n",
              "       width=\"24px\">\n",
              "    <path d=\"M0 0h24v24H0V0z\" fill=\"none\"/>\n",
              "    <path d=\"M18.56 5.44l.94 2.06.94-2.06 2.06-.94-2.06-.94-.94-2.06-.94 2.06-2.06.94zm-11 1L8.5 8.5l.94-2.06 2.06-.94-2.06-.94L8.5 2.5l-.94 2.06-2.06.94zm10 10l.94 2.06.94-2.06 2.06-.94-2.06-.94-.94-2.06-.94 2.06-2.06.94z\"/><path d=\"M17.41 7.96l-1.37-1.37c-.4-.4-.92-.59-1.43-.59-.52 0-1.04.2-1.43.59L10.3 9.45l-7.72 7.72c-.78.78-.78 2.05 0 2.83L4 21.41c.39.39.9.59 1.41.59.51 0 1.02-.2 1.41-.59l7.78-7.78 2.81-2.81c.8-.78.8-2.07 0-2.86zM5.41 20L4 18.59l7.72-7.72 1.47 1.35L5.41 20z\"/>\n",
              "  </svg>\n",
              "      </button>\n",
              "      \n",
              "  <style>\n",
              "    .colab-df-container {\n",
              "      display:flex;\n",
              "      flex-wrap:wrap;\n",
              "      gap: 12px;\n",
              "    }\n",
              "\n",
              "    .colab-df-convert {\n",
              "      background-color: #E8F0FE;\n",
              "      border: none;\n",
              "      border-radius: 50%;\n",
              "      cursor: pointer;\n",
              "      display: none;\n",
              "      fill: #1967D2;\n",
              "      height: 32px;\n",
              "      padding: 0 0 0 0;\n",
              "      width: 32px;\n",
              "    }\n",
              "\n",
              "    .colab-df-convert:hover {\n",
              "      background-color: #E2EBFA;\n",
              "      box-shadow: 0px 1px 2px rgba(60, 64, 67, 0.3), 0px 1px 3px 1px rgba(60, 64, 67, 0.15);\n",
              "      fill: #174EA6;\n",
              "    }\n",
              "\n",
              "    [theme=dark] .colab-df-convert {\n",
              "      background-color: #3B4455;\n",
              "      fill: #D2E3FC;\n",
              "    }\n",
              "\n",
              "    [theme=dark] .colab-df-convert:hover {\n",
              "      background-color: #434B5C;\n",
              "      box-shadow: 0px 1px 3px 1px rgba(0, 0, 0, 0.15);\n",
              "      filter: drop-shadow(0px 1px 2px rgba(0, 0, 0, 0.3));\n",
              "      fill: #FFFFFF;\n",
              "    }\n",
              "  </style>\n",
              "\n",
              "      <script>\n",
              "        const buttonEl =\n",
              "          document.querySelector('#df-e3cae232-0ff3-4b8b-b459-e988c839db42 button.colab-df-convert');\n",
              "        buttonEl.style.display =\n",
              "          google.colab.kernel.accessAllowed ? 'block' : 'none';\n",
              "\n",
              "        async function convertToInteractive(key) {\n",
              "          const element = document.querySelector('#df-e3cae232-0ff3-4b8b-b459-e988c839db42');\n",
              "          const dataTable =\n",
              "            await google.colab.kernel.invokeFunction('convertToInteractive',\n",
              "                                                     [key], {});\n",
              "          if (!dataTable) return;\n",
              "\n",
              "          const docLinkHtml = 'Like what you see? Visit the ' +\n",
              "            '<a target=\"_blank\" href=https://colab.research.google.com/notebooks/data_table.ipynb>data table notebook</a>'\n",
              "            + ' to learn more about interactive tables.';\n",
              "          element.innerHTML = '';\n",
              "          dataTable['output_type'] = 'display_data';\n",
              "          await google.colab.output.renderOutput(dataTable, element);\n",
              "          const docLink = document.createElement('div');\n",
              "          docLink.innerHTML = docLinkHtml;\n",
              "          element.appendChild(docLink);\n",
              "        }\n",
              "      </script>\n",
              "    </div>\n",
              "  </div>\n",
              "  "
            ]
          },
          "metadata": {},
          "execution_count": 4
        }
      ]
    },
    {
      "cell_type": "code",
      "source": [
        "#Get rows and columns\n",
        "df.shape"
      ],
      "metadata": {
        "colab": {
          "base_uri": "https://localhost:8080/"
        },
        "id": "6me7OUDaB8Nh",
        "outputId": "1827113e-fcb0-4fb2-b49c-ccd026245acb"
      },
      "execution_count": null,
      "outputs": [
        {
          "output_type": "execute_result",
          "data": {
            "text/plain": [
              "(1255, 6)"
            ]
          },
          "metadata": {},
          "execution_count": 5
        }
      ]
    },
    {
      "cell_type": "code",
      "source": [
        "plt.figure(figsize=(16,8))\n",
        "plt.title('Closing Price History (Pfizer)')\n",
        "plt.plot(df['Close'])\n",
        "plt.xlabel('Date', fontsize=18)\n",
        "plt.ylabel('Close Price($)', fontsize=18)\n",
        "plt.show()"
      ],
      "metadata": {
        "colab": {
          "base_uri": "https://localhost:8080/",
          "height": 558
        },
        "id": "r0l22ecdCOLj",
        "outputId": "174f7fc0-9af7-44ec-e90a-ac2e432cdf79"
      },
      "execution_count": null,
      "outputs": [
        {
          "output_type": "display_data",
          "data": {
            "text/plain": [
              "<Figure size 1152x576 with 1 Axes>"
            ],
            "image/png": "[encoded data removed]"
          },
          "metadata": {}
        }
      ]
    },
    {
      "cell_type": "code",
      "source": [
        "#Create a new DF with only the 'Close Column'\n",
        "data = df.filter(['Close'])\n",
        "#Conver the df to an array\n",
        "dataset = data.values\n",
        "#Get the # of rows to train the model on (Training on about 80% of the data)\n",
        "training_data_len = math.ceil( len(dataset) * .8) #Math.ceil rounds up the number\n",
        "training_data_len"
      ],
      "metadata": {
        "colab": {
          "base_uri": "https://localhost:8080/"
        },
        "id": "ueOl2UmGCzWC",
        "outputId": "3e481042-60c2-44ac-ebf7-ebb37d1058e3"
      },
      "execution_count": null,
      "outputs": [
        {
          "output_type": "execute_result",
          "data": {
            "text/plain": [
              "1004"
            ]
          },
          "metadata": {},
          "execution_count": 10
        }
      ]
    },
    {
      "cell_type": "code",
      "source": [
        "#Scaling the data \n",
        "scaler = MinMaxScaler(feature_range=(0,1))\n",
        "scaled_data = scaler.fit_transform(dataset)\n",
        "\n",
        "scaled_data"
      ],
      "metadata": {
        "colab": {
          "base_uri": "https://localhost:8080/"
        },
        "id": "pFmu61V0Dyne",
        "outputId": "bbc7643b-baea-4f4b-ae49-cc188a994d6b"
      },
      "execution_count": null,
      "outputs": [
        {
          "output_type": "execute_result",
          "data": {
            "text/plain": [
              "array([[0.22042004],\n",
              "       [0.22790604],\n",
              "       [0.2301241 ],\n",
              "       ...,\n",
              "       [0.71975157],\n",
              "       [0.71916709],\n",
              "       [0.72471953]])"
            ]
          },
          "metadata": {},
          "execution_count": 11
        }
      ]
    },
    {
      "cell_type": "code",
      "source": [
        "#Creating the Training Dataset\n",
        "#Create the scaled training data set\n",
        "train_data = scaled_data[0:training_data_len, :]\n",
        "\n",
        "#Splitting the columns into x_train and y_train datasets\n",
        "x_train = [] #Independent Features\n",
        "y_train = [] #Target Variables\n",
        "\n",
        "for i in range(60, len(train_data)):\n",
        "  x_train.append(train_data[i-60:i, 0]) #This contains 60 values from 0 - 59\n",
        "  y_train.append(train_data[i, 0]) #This will contain the 61st value which is at 60th position\n",
        "\n",
        "  \n"
      ],
      "metadata": {
        "id": "MtSPn5abESmE"
      },
      "execution_count": null,
      "outputs": []
    },
    {
      "cell_type": "code",
      "source": [
        "#Convert the x_train and y_train to numpy arrays\n",
        "x_train, y_train = np.array(x_train), np.array(y_train)"
      ],
      "metadata": {
        "id": "vlkbPnv-FwM1"
      },
      "execution_count": null,
      "outputs": []
    },
    {
      "cell_type": "code",
      "source": [
        "#Reshape the data. This is done because the LSTM network expects the input to be 3D which contains Number of samples, Number of time steps and Number of Features\n",
        "x_train = np.reshape(x_train, (x_train.shape[0], x_train.shape[1], 1)) #This reshapes it to the number of columns, number of rows and Number of features respectively \n",
        "x_train.shape"
      ],
      "metadata": {
        "colab": {
          "base_uri": "https://localhost:8080/"
        },
        "id": "7cxADcnQF5cY",
        "outputId": "69bd6433-d78c-4c35-af55-b6fba72df1cf"
      },
      "execution_count": null,
      "outputs": [
        {
          "output_type": "execute_result",
          "data": {
            "text/plain": [
              "(944, 60, 1)"
            ]
          },
          "metadata": {},
          "execution_count": 15
        }
      ]
    },
    {
      "cell_type": "code",
      "source": [
        "#Building the LSTM Model. This is the model's architecture\n",
        "model = Sequential()\n",
        "model.add(LSTM(50, return_sequences=True, input_shape=(x_train.shape[1], 1)))\n",
        "model.add(LSTM(50, return_sequences=False))\n",
        "model.add(Dense(25))\n",
        "model.add(Dense(1))"
      ],
      "metadata": {
        "id": "K2o3osQnG7b7"
      },
      "execution_count": null,
      "outputs": []
    },
    {
      "cell_type": "code",
      "source": [
        "#Compiling the Model\n",
        "model.compile(optimizer = 'adam', loss='mean_squared_error')"
      ],
      "metadata": {
        "id": "ypKMcZ0aIAXQ"
      },
      "execution_count": null,
      "outputs": []
    },
    {
      "cell_type": "code",
      "source": [
        "#Training the Model\n",
        "model.fit(x_train, y_train, batch_size = 1, epochs=1)"
      ],
      "metadata": {
        "colab": {
          "base_uri": "https://localhost:8080/"
        },
        "id": "L8a7lP3-INwx",
        "outputId": "4a1e5bf0-1341-40e6-8c42-4c0e247a0907"
      },
      "execution_count": null,
      "outputs": [
        {
          "output_type": "stream",
          "name": "stdout",
          "text": [
            "944/944 [==============================] - 31s 29ms/step - loss: 0.0031\n"
          ]
        },
        {
          "output_type": "execute_result",
          "data": {
            "text/plain": [
              "<keras.callbacks.History at 0x7f5cec9afd90>"
            ]
          },
          "metadata": {},
          "execution_count": 21
        }
      ]
    },
    {
      "cell_type": "code",
      "source": [
        "#Creating the Testing Dataset\n",
        "#Creating a new array containing scaled values.\n",
        "test_data = scaled_data[training_data_len-60:, :]\n",
        "#Creat the data sets x_test and y_test\n",
        "x_test = []\n",
        "y_test = dataset[training_data_len:, :]\n",
        "for i in range(60, len(test_data)):\n",
        "  x_test.append(test_data[i-60:i, 0])"
      ],
      "metadata": {
        "id": "YJ8JoDt4Ih7h"
      },
      "execution_count": null,
      "outputs": []
    },
    {
      "cell_type": "code",
      "source": [
        "#Convert the data to numpy array. Doing this step so that it can be used in the LSTM Model. Next Step: Reshaping the data\n",
        "x_test = np.array(x_test)"
      ],
      "metadata": {
        "id": "sLzfrA7dJLkD"
      },
      "execution_count": null,
      "outputs": []
    },
    {
      "cell_type": "code",
      "source": [
        "#Reshaping the data. # of rows = # of samples, # of columns = # of time steps, # of features = closed price\n",
        "x_test = np.reshape(x_test, (x_test.shape[0], x_test.shape[1], 1))"
      ],
      "metadata": {
        "id": "SZaUeiBiJdsX"
      },
      "execution_count": null,
      "outputs": []
    },
    {
      "cell_type": "code",
      "source": [
        "#Get the model's predicted price values\n",
        "predictions = model.predict(x_test)\n",
        "predictions = scaler.inverse_transform(predictions) #Want predictions to contain the some values as the y_test dataset."
      ],
      "metadata": {
        "colab": {
          "base_uri": "https://localhost:8080/"
        },
        "id": "xxsKDHSPJyM5",
        "outputId": "a9029ad3-efe0-48ca-d4fe-ce5d9d650ee3"
      },
      "execution_count": null,
      "outputs": [
        {
          "output_type": "stream",
          "name": "stdout",
          "text": [
            "8/8 [==============================] - 1s 19ms/step\n"
          ]
        }
      ]
    },
    {
      "cell_type": "code",
      "source": [
        "#Get the Root Mean Squared Error (RMSE). Shows how accurate the model predicts the response. \n",
        "rmse = np.sqrt( np.mean( predictions - y_test)**2)\n",
        "rmse"
      ],
      "metadata": {
        "colab": {
          "base_uri": "https://localhost:8080/"
        },
        "id": "SiyHbdsdKRNT",
        "outputId": "d25509c6-f106-4703-ac8d-ca0ac83ce820"
      },
      "execution_count": null,
      "outputs": [
        {
          "output_type": "execute_result",
          "data": {
            "text/plain": [
              "1.694686813658452"
            ]
          },
          "metadata": {},
          "execution_count": 26
        }
      ]
    },
    {
      "cell_type": "code",
      "source": [
        "#Plotting the data\n",
        "train = data[:training_data_len]\n",
        "valid = data[training_data_len:]\n",
        "valid['Predictions'] = predictions\n",
        "#Visualize the data\n",
        "plt.figure(figsize= (16,8))\n",
        "plt.title('Model')\n",
        "plt.xlabel('Date', fontsize = 18)\n",
        "plt.ylabel('Close Price $', fontsize = 18)\n",
        "plt.plot(train['Close'])\n",
        "plt.plot(valid[['Close', 'Predictions' ]])\n",
        "plt.legend(['Train', 'Validation', 'Predictions'], loc = 'lower right')\n",
        "plt.show()"
      ],
      "metadata": {
        "colab": {
          "base_uri": "https://localhost:8080/",
          "height": 662
        },
        "id": "y8_QXygQK90C",
        "outputId": "b578766f-359c-4ab1-a93c-6ca1568dc7a4"
      },
      "execution_count": null,
      "outputs": [
        {
          "output_type": "stream",
          "name": "stderr",
          "text": [
            "<ipython-input-28-8af42a8d2465>:4: SettingWithCopyWarning: \n",
            "A value is trying to be set on a copy of a slice from a DataFrame.\n",
            "Try using .loc[row_indexer,col_indexer] = value instead\n",
            "\n",
            "See the caveats in the documentation: https://pandas.pydata.org/pandas-docs/stable/user_guide/indexing.html#returning-a-view-versus-a-copy\n",
            "  valid['Predictions'] = predictions\n"
          ]
        },
        {
          "output_type": "display_data",
          "data": {
            "text/plain": [
              "<Figure size 1152x576 with 1 Axes>"
            ],
            "image/png": "[encoded data removed]"
          },
          "metadata": {}
        }
      ]
    },
    {
      "cell_type": "code",
      "source": [
        "#Show the valid and predicted prices\n",
        "valid"
      ],
      "metadata": {
        "colab": {
          "base_uri": "https://localhost:8080/",
          "height": 455
        },
        "id": "uUemQGwNMDwV",
        "outputId": "9fc09508-952e-4dab-9adb-b83109f3ee80"
      },
      "execution_count": null,
      "outputs": [
        {
          "output_type": "execute_result",
          "data": {
            "text/plain": [
              "                               Close  Predictions\n",
              "Date                                             \n",
              "2021-12-28 00:00:00-05:00  58.009998    64.161926\n",
              "2021-12-29 00:00:00-05:00  57.580002    63.872971\n",
              "2021-12-30 00:00:00-05:00  58.400002    63.343449\n",
              "2021-12-31 00:00:00-05:00  59.049999    62.873146\n",
              "2022-01-03 00:00:00-05:00  56.650002    62.582260\n",
              "...                              ...          ...\n",
              "2022-12-19 00:00:00-05:00  51.360001    55.233562\n",
              "2022-12-20 00:00:00-05:00  51.320000    55.084637\n",
              "2022-12-21 00:00:00-05:00  51.660000    54.767494\n",
              "2022-12-22 00:00:00-05:00  51.639999    54.440678\n",
              "2022-12-23 00:00:00-05:00  51.830002    54.134941\n",
              "\n",
              "[251 rows x 2 columns]"
            ],
            "text/html": [
              "\n",
              "  <div id=\"df-5ede058e-201d-424b-b597-cb564a6c3b8a\">\n",
              "    <div class=\"colab-df-container\">\n",
              "      <div>\n",
              "<style scoped>\n",
              "    .dataframe tbody tr th:only-of-type {\n",
              "        vertical-align: middle;\n",
              "    }\n",
              "\n",
              "    .dataframe tbody tr th {\n",
              "        vertical-align: top;\n",
              "    }\n",
              "\n",
              "    .dataframe thead th {\n",
              "        text-align: right;\n",
              "    }\n",
              "</style>\n",
              "<table border=\"1\" class=\"dataframe\">\n",
              "  <thead>\n",
              "    <tr style=\"text-align: right;\">\n",
              "      <th></th>\n",
              "      <th>Close</th>\n",
              "      <th>Predictions</th>\n",
              "    </tr>\n",
              "    <tr>\n",
              "      <th>Date</th>\n",
              "      <th></th>\n",
              "      <th></th>\n",
              "    </tr>\n",
              "  </thead>\n",
              "  <tbody>\n",
              "    <tr>\n",
              "      <th>2021-12-28 00:00:00-05:00</th>\n",
              "      <td>58.009998</td>\n",
              "      <td>64.161926</td>\n",
              "    </tr>\n",
              "    <tr>\n",
              "      <th>2021-12-29 00:00:00-05:00</th>\n",
              "      <td>57.580002</td>\n",
              "      <td>63.872971</td>\n",
              "    </tr>\n",
              "    <tr>\n",
              "      <th>2021-12-30 00:00:00-05:00</th>\n",
              "      <td>58.400002</td>\n",
              "      <td>63.343449</td>\n",
              "    </tr>\n",
              "    <tr>\n",
              "      <th>2021-12-31 00:00:00-05:00</th>\n",
              "      <td>59.049999</td>\n",
              "      <td>62.873146</td>\n",
              "    </tr>\n",
              "    <tr>\n",
              "      <th>2022-01-03 00:00:00-05:00</th>\n",
              "      <td>56.650002</td>\n",
              "      <td>62.582260</td>\n",
              "    </tr>\n",
              "    <tr>\n",
              "      <th>...</th>\n",
              "      <td>...</td>\n",
              "      <td>...</td>\n",
              "    </tr>\n",
              "    <tr>\n",
              "      <th>2022-12-19 00:00:00-05:00</th>\n",
              "      <td>51.360001</td>\n",
              "      <td>55.233562</td>\n",
              "    </tr>\n",
              "    <tr>\n",
              "      <th>2022-12-20 00:00:00-05:00</th>\n",
              "      <td>51.320000</td>\n",
              "      <td>55.084637</td>\n",
              "    </tr>\n",
              "    <tr>\n",
              "      <th>2022-12-21 00:00:00-05:00</th>\n",
              "      <td>51.660000</td>\n",
              "      <td>54.767494</td>\n",
              "    </tr>\n",
              "    <tr>\n",
              "      <th>2022-12-22 00:00:00-05:00</th>\n",
              "      <td>51.639999</td>\n",
              "      <td>54.440678</td>\n",
              "    </tr>\n",
              "    <tr>\n",
              "      <th>2022-12-23 00:00:00-05:00</th>\n",
              "      <td>51.830002</td>\n",
              "      <td>54.134941</td>\n",
              "    </tr>\n",
              "  </tbody>\n",
              "</table>\n",
              "<p>251 rows × 2 columns</p>\n",
              "</div>\n",
              "      <button class=\"colab-df-convert\" onclick=\"convertToInteractive('df-5ede058e-201d-424b-b597-cb564a6c3b8a')\"\n",
              "              title=\"Convert this dataframe to an interactive table.\"\n",
              "              style=\"display:none;\">\n",
              "        \n",
              "  <svg xmlns=\"http://www.w3.org/2000/svg\" height=\"24px\"viewBox=\"0 0 24 24\"\n",
              "       width=\"24px\">\n",
              "    <path d=\"M0 0h24v24H0V0z\" fill=\"none\"/>\n",
              "    <path d=\"M18.56 5.44l.94 2.06.94-2.06 2.06-.94-2.06-.94-.94-2.06-.94 2.06-2.06.94zm-11 1L8.5 8.5l.94-2.06 2.06-.94-2.06-.94L8.5 2.5l-.94 2.06-2.06.94zm10 10l.94 2.06.94-2.06 2.06-.94-2.06-.94-.94-2.06-.94 2.06-2.06.94z\"/><path d=\"M17.41 7.96l-1.37-1.37c-.4-.4-.92-.59-1.43-.59-.52 0-1.04.2-1.43.59L10.3 9.45l-7.72 7.72c-.78.78-.78 2.05 0 2.83L4 21.41c.39.39.9.59 1.41.59.51 0 1.02-.2 1.41-.59l7.78-7.78 2.81-2.81c.8-.78.8-2.07 0-2.86zM5.41 20L4 18.59l7.72-7.72 1.47 1.35L5.41 20z\"/>\n",
              "  </svg>\n",
              "      </button>\n",
              "      \n",
              "  <style>\n",
              "    .colab-df-container {\n",
              "      display:flex;\n",
              "      flex-wrap:wrap;\n",
              "      gap: 12px;\n",
              "    }\n",
              "\n",
              "    .colab-df-convert {\n",
              "      background-color: #E8F0FE;\n",
              "      border: none;\n",
              "      border-radius: 50%;\n",
              "      cursor: pointer;\n",
              "      display: none;\n",
              "      fill: #1967D2;\n",
              "      height: 32px;\n",
              "      padding: 0 0 0 0;\n",
              "      width: 32px;\n",
              "    }\n",
              "\n",
              "    .colab-df-convert:hover {\n",
              "      background-color: #E2EBFA;\n",
              "      box-shadow: 0px 1px 2px rgba(60, 64, 67, 0.3), 0px 1px 3px 1px rgba(60, 64, 67, 0.15);\n",
              "      fill: #174EA6;\n",
              "    }\n",
              "\n",
              "    [theme=dark] .colab-df-convert {\n",
              "      background-color: #3B4455;\n",
              "      fill: #D2E3FC;\n",
              "    }\n",
              "\n",
              "    [theme=dark] .colab-df-convert:hover {\n",
              "      background-color: #434B5C;\n",
              "      box-shadow: 0px 1px 3px 1px rgba(0, 0, 0, 0.15);\n",
              "      filter: drop-shadow(0px 1px 2px rgba(0, 0, 0, 0.3));\n",
              "      fill: #FFFFFF;\n",
              "    }\n",
              "  </style>\n",
              "\n",
              "      <script>\n",
              "        const buttonEl =\n",
              "          document.querySelector('#df-5ede058e-201d-424b-b597-cb564a6c3b8a button.colab-df-convert');\n",
              "        buttonEl.style.display =\n",
              "          google.colab.kernel.accessAllowed ? 'block' : 'none';\n",
              "\n",
              "        async function convertToInteractive(key) {\n",
              "          const element = document.querySelector('#df-5ede058e-201d-424b-b597-cb564a6c3b8a');\n",
              "          const dataTable =\n",
              "            await google.colab.kernel.invokeFunction('convertToInteractive',\n",
              "                                                     [key], {});\n",
              "          if (!dataTable) return;\n",
              "\n",
              "          const docLinkHtml = 'Like what you see? Visit the ' +\n",
              "            '<a target=\"_blank\" href=https://colab.research.google.com/notebooks/data_table.ipynb>data table notebook</a>'\n",
              "            + ' to learn more about interactive tables.';\n",
              "          element.innerHTML = '';\n",
              "          dataTable['output_type'] = 'display_data';\n",
              "          await google.colab.output.renderOutput(dataTable, element);\n",
              "          const docLink = document.createElement('div');\n",
              "          docLink.innerHTML = docLinkHtml;\n",
              "          element.appendChild(docLink);\n",
              "        }\n",
              "      </script>\n",
              "    </div>\n",
              "  </div>\n",
              "  "
            ]
          },
          "metadata": {},
          "execution_count": 29
        }
      ]
    },
    {
      "cell_type": "code",
      "source": [
        "#Get the quote\n",
        "pfizer_quote = yf.download('PFE', start='2018-01-01', end='2022-12-25')\n",
        "#Create a new df\n",
        "new_df = pfizer_quote.filter(['Close'])\n",
        "#Get the last 60 days closing price values and convert the dataframe to an array\n",
        "last_60_days = new_df[-60:].values\n",
        "#Scale the data to be values between 0 and 1\n",
        "last_60_days_scaled = scaler.transform(last_60_days)\n",
        "#Create an empty list\n",
        "X_test = []\n",
        "#Append the last 60 days to the X_test list\n",
        "X_test.append(last_60_days_scaled)\n",
        "#Conver the X_test dataset to a numpy array\n",
        "X_test = np.array(X_test)\n",
        "#Reshape the data to be 3D\n",
        "X_test = np.reshape(X_test, (X_test.shape[0], X_test.shape[1], 1))\n",
        "#Get the predicted scaled price\n",
        "pred_price = model.predict(X_test)\n",
        "#undo the scaling\n",
        "pred_price = scaler.inverse_transform(pred_price)\n",
        "print(pred_price)"
      ],
      "metadata": {
        "colab": {
          "base_uri": "https://localhost:8080/"
        },
        "id": "x17uVcZNMWZc",
        "outputId": "ade0426b-6fd1-4402-d976-a7c3135bab85"
      },
      "execution_count": null,
      "outputs": [
        {
          "output_type": "stream",
          "name": "stdout",
          "text": [
            "[*********************100%***********************]  1 of 1 completed\n",
            "1/1 [==============================] - 0s 27ms/step\n",
            "[[53.90605]]\n"
          ]
        }
      ]
    },
    {
      "cell_type": "code",
      "source": [
        "pfizer_quote2 = yf.download('PFE', start='2018-01-01', end='2022-12-03')\n",
        "print(pfizer_quote2['Close'])"
      ],
      "metadata": {
        "colab": {
          "base_uri": "https://localhost:8080/"
        },
        "id": "iduJFEvuN9oG",
        "outputId": "415e9b93-b2c4-444b-bffe-86d913881150"
      },
      "execution_count": null,
      "outputs": [
        {
          "output_type": "stream",
          "name": "stdout",
          "text": [
            "\r[*********************100%***********************]  1 of 1 completed\n",
            "Date\n",
            "2018-01-02 00:00:00-05:00    34.573055\n",
            "2018-01-03 00:00:00-05:00    34.829224\n",
            "2018-01-04 00:00:00-05:00    34.905125\n",
            "2018-01-05 00:00:00-05:00    34.971539\n",
            "2018-01-08 00:00:00-05:00    34.582542\n",
            "                               ...    \n",
            "2022-11-28 00:00:00-05:00    49.570000\n",
            "2022-11-29 00:00:00-05:00    49.490002\n",
            "2022-11-30 00:00:00-05:00    50.130001\n",
            "2022-12-01 00:00:00-05:00    51.080002\n",
            "2022-12-02 00:00:00-05:00    50.910000\n",
            "Name: Close, Length: 1240, dtype: float64\n"
          ]
        }
      ]
    }
  ]
}